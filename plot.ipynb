{
 "cells": [
  {
   "cell_type": "code",
   "execution_count": 79,
   "metadata": {
    "collapsed": true,
    "pycharm": {
     "name": "#%%\n"
    }
   },
   "outputs": [],
   "source": [
    "# data mining\n",
    "from matplotlib import pyplot as plt\n",
    "import numpy as np\n",
    "import os\n",
    "from itertools import cycle\n",
    "\n",
    "# Folder Path\n",
    "path = \".\"\n",
    "os.chdir(path)\n",
    "\n",
    "# Labels\n",
    "labels = [\"0.7\", \"1.4\", \"2.8\"]\n",
    "# Colors\n",
    "cycol = cycle('bgrcmk')"
   ]
  },
  {
   "cell_type": "code",
   "execution_count": 80,
   "outputs": [],
   "source": [
    "lines =[]\n",
    "\n",
    "def read_text_file(file_path):\n",
    "    with open(file_path, 'r') as f:\n",
    "        lines = f.readlines()\n",
    "        return lines"
   ],
   "metadata": {
    "collapsed": false,
    "pycharm": {
     "name": "#%%\n"
    }
   }
  },
  {
   "cell_type": "code",
   "execution_count": 81,
   "outputs": [],
   "source": [
    "\n",
    "\n",
    "def one_plot():\n",
    "    timesteps = []\n",
    "    pressures = []\n",
    "\n",
    "    for file in os.listdir():\n",
    "        if file.endswith(\".txt\"):\n",
    "            file_path = f\"{path}/{file}\"\n",
    "            lines = read_text_file(file_path)\n",
    "            for line in lines:\n",
    "                tokens = line.split(\",\")\n",
    "                token = tokens[4].split(\"\\n\")[0]\n",
    "                timesteps.append(tokens[0])\n",
    "                pressures.append(token)\n",
    "            print(pressures)\n",
    "            plt.plot(timesteps, pressures, next(cycol))\n",
    "            timesteps.clear()\n",
    "            pressures.clear()\n",
    "    return timesteps, pressures\n"
   ],
   "metadata": {
    "collapsed": false,
    "pycharm": {
     "name": "#%%\n"
    }
   }
  },
  {
   "cell_type": "code",
   "execution_count": 82,
   "outputs": [],
   "source": [
    "\n",
    "def subplots(x, y):\n",
    "    timesteps = []\n",
    "    pressures = []\n",
    "    indexes = []\n",
    "\n",
    "    for i in range(x):\n",
    "        for j in range(y):\n",
    "            indexes.append([i, j])\n",
    "    print(indexes)\n",
    "    figure, axis = plt.subplots(x, y)\n",
    "    n = 0\n",
    "\n",
    "    for file in os.listdir():\n",
    "        if file.endswith(\".txt\"):\n",
    "            file_path = f\"{path}/{file}\"\n",
    "            lines = read_text_file(file_path)\n",
    "            for line in lines:\n",
    "                tokens = line.split(\",\")\n",
    "                token = tokens[4].split(\"\\n\")[0]\n",
    "                timesteps.append(tokens[0])\n",
    "                token = token.split('.')[0]+\".\"+token.split('.')[1][0:4]\n",
    "                pressures.append(token)\n",
    "\n",
    "            t = np.array(timesteps)\n",
    "            p = np.array(pressures)\n",
    "            axis[indexes[n][0], indexes[n][1]].plot(t, p)\n",
    "            #axis[0, 0].set_title(\"\")\n",
    "            #plt.plot(timesteps, pressures, next(cycol))\n",
    "            timesteps.clear()\n",
    "            pressures.clear()\n",
    "\n",
    "            n+=1\n",
    "            if n == len(indexes):\n",
    "                break\n",
    "\n",
    "    plt.show()"
   ],
   "metadata": {
    "collapsed": false,
    "pycharm": {
     "name": "#%%\n"
    }
   }
  },
  {
   "cell_type": "code",
   "execution_count": 83,
   "outputs": [],
   "source": [
    "timesteps = []\n",
    "pressures = []"
   ],
   "metadata": {
    "collapsed": false,
    "pycharm": {
     "name": "#%%\n"
    }
   }
  },
  {
   "cell_type": "code",
   "execution_count": 84,
   "outputs": [
    {
     "name": "stdout",
     "output_type": "stream",
     "text": [
      "[[0, 0], [0, 1], [1, 0], [1, 1]]\n"
     ]
    },
    {
     "data": {
      "text/plain": "<Figure size 432x288 with 4 Axes>",
      "image/png": "[encoded data removed]"
     },
     "metadata": {
      "needs_background": "light"
     },
     "output_type": "display_data"
    }
   ],
   "source": [
    "\n",
    "subplots(2,2)\n",
    "\n",
    "#plotting\n",
    "# plt.title('pressure simulation')\n",
    "# plt.legend(labels)\n",
    "# plt.xlabel('time')\n",
    "# plt.ylabel('pressure')\n",
    "# plt.show()"
   ],
   "metadata": {
    "collapsed": false,
    "pycharm": {
     "name": "#%%\n"
    }
   }
  }
 ],
 "metadata": {
  "kernelspec": {
   "display_name": "Python 3",
   "language": "python",
   "name": "python3"
  },
  "language_info": {
   "codemirror_mode": {
    "name": "ipython",
    "version": 2
   },
   "file_extension": ".py",
   "mimetype": "text/x-python",
   "name": "python",
   "nbconvert_exporter": "python",
   "pygments_lexer": "ipython2",
   "version": "2.7.6"
  }
 },
 "nbformat": 4,
 "nbformat_minor": 0
}